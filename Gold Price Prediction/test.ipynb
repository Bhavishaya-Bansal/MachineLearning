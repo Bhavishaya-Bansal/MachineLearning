{
 "cells": [
  {
   "cell_type": "code",
   "execution_count": 1,
   "metadata": {},
   "outputs": [
    {
     "ename": "ModuleNotFoundError",
     "evalue": "No module named 'seaborn'",
     "output_type": "error",
     "traceback": [
      "\u001b[1;31m---------------------------------------------------------------------------\u001b[0m",
      "\u001b[1;31mModuleNotFoundError\u001b[0m                       Traceback (most recent call last)",
      "\u001b[1;32md:\\Projects\\Gold Price Prediction\\test.ipynb Cell 1\u001b[0m line \u001b[0;36m4\n\u001b[0;32m      <a href='vscode-notebook-cell:/d%3A/Projects/Gold%20Price%20Prediction/test.ipynb#W0sZmlsZQ%3D%3D?line=1'>2</a>\u001b[0m \u001b[39mimport\u001b[39;00m \u001b[39mpandas\u001b[39;00m \u001b[39mas\u001b[39;00m \u001b[39mpd\u001b[39;00m\n\u001b[0;32m      <a href='vscode-notebook-cell:/d%3A/Projects/Gold%20Price%20Prediction/test.ipynb#W0sZmlsZQ%3D%3D?line=2'>3</a>\u001b[0m \u001b[39mimport\u001b[39;00m \u001b[39mmatplotlib\u001b[39;00m\u001b[39m.\u001b[39;00m\u001b[39mpyplot\u001b[39;00m \u001b[39mas\u001b[39;00m \u001b[39mplt\u001b[39;00m\n\u001b[1;32m----> <a href='vscode-notebook-cell:/d%3A/Projects/Gold%20Price%20Prediction/test.ipynb#W0sZmlsZQ%3D%3D?line=3'>4</a>\u001b[0m \u001b[39mimport\u001b[39;00m \u001b[39mseaborn\u001b[39;00m \u001b[39mas\u001b[39;00m \u001b[39msns\u001b[39;00m\n\u001b[0;32m      <a href='vscode-notebook-cell:/d%3A/Projects/Gold%20Price%20Prediction/test.ipynb#W0sZmlsZQ%3D%3D?line=4'>5</a>\u001b[0m \u001b[39mfrom\u001b[39;00m \u001b[39msklearn\u001b[39;00m\u001b[39m.\u001b[39;00m\u001b[39mmodel_selection\u001b[39;00m \u001b[39mimport\u001b[39;00m train_test_split\n\u001b[0;32m      <a href='vscode-notebook-cell:/d%3A/Projects/Gold%20Price%20Prediction/test.ipynb#W0sZmlsZQ%3D%3D?line=5'>6</a>\u001b[0m \u001b[39mfrom\u001b[39;00m \u001b[39msklearn\u001b[39;00m\u001b[39m.\u001b[39;00m\u001b[39mensemble\u001b[39;00m \u001b[39mimport\u001b[39;00m RandomForestRegressor\n",
      "\u001b[1;31mModuleNotFoundError\u001b[0m: No module named 'seaborn'"
     ]
    }
   ],
   "source": [
    "import numpy as np\n",
    "import pandas as pd\n",
    "import matplotlib.pyplot as plt\n",
    "import seaborn as sns\n",
    "from sklearn.model_selection import train_test_split\n",
    "from sklearn.ensemble import RandomForestRegressor\n",
    "from sklearn import metrics\n",
    "\n",
    "# Loading the csv data to pandas data frame\n",
    "gold_data= pd.read_csv('/content/gld_price_data.csv') # here in our pd.read_csv we have given the url of our file, to import the dataset\n",
    "\n",
    "# checking the numebr of missing values\n",
    "gold_data.isnull().sum()\n",
    "\n",
    "# creating a variable named correlation\n",
    "correlation = gold_data.corr()\n",
    "\n",
    "# constructing a heaatmap to understand the correlation\n",
    "plt.figure(figsize= (8,8))\n",
    "sns.heatmap(correlation, cbar= True, square= True, fmt= '.1f', annot= True, annot_kws= {'size': 8}, cmap= 'Blues')\n",
    "\n",
    "# correlation values for GLD (gold)\n",
    "print(correlation['GLD'])\n",
    "\n",
    "# Checking the distribution of the gold price over the years\n",
    "sns.distplot(gold_data['GLD'], color= 'green')\n",
    "\n",
    "# Storing features in x\n",
    "x= gold_data.drop(['Date', 'GLD'], axis= 1)   # we have removed Data and Gold price from our dataset and we are left with other columns..\n",
    "\n",
    "# WHILE DROPPING COLMS WE MAKE OUR axis= 1 AND WHILE DROPPING ANY ROWS WE MAKE OUR axis= 0\n",
    "\n",
    "# Storing gold price colm in y\n",
    "y = gold_data['GLD']\n",
    "\n",
    "# Splitting the data into training and test sets\n",
    "x_train, x_test, y_train, y_test = train_test_split(x, y, test_size=0.2, random_state=2)\n",
    "\n",
    "# Creating a Random Forest Regressor model\n",
    "regressor = RandomForestRegressor(n_estimators=100)\n",
    "\n",
    "# Training the model on the training set\n",
    "regressor.fit(x_train, y_train)\n",
    "\n",
    "# Evaluating the model's performance on the test set\n",
    "y_pred = regressor.predict(x_test)\n",
    "test_r2_score = metrics.r2_score(y_test, y_pred)\n",
    "print(\"Test R-squared score:\", test_r2_score)\n",
    "\n",
    "# Evaluating the model's performance on the training set\n",
    "y_train_pred = regressor.predict(x_train)\n",
    "train_r2_score = metrics.r2_score(y_train, y_train_pred)\n",
    "print(\"Train R-squared score:\", train_r2_score)\n",
    "\n",
    "# Comparing the model's performance on the training and test sets\n",
    "if train_r2_score - test_r2_score > 0.1:\n",
    "  print(\"The model is likely overfitting.\")\n",
    "else:\n",
    "  print(\"The model is not likely overfitting.\")\n"
   ]
  },
  {
   "cell_type": "code",
   "execution_count": null,
   "metadata": {},
   "outputs": [],
   "source": []
  }
 ],
 "metadata": {
  "kernelspec": {
   "display_name": "Python 3",
   "language": "python",
   "name": "python3"
  },
  "language_info": {
   "codemirror_mode": {
    "name": "ipython",
    "version": 3
   },
   "file_extension": ".py",
   "mimetype": "text/x-python",
   "name": "python",
   "nbconvert_exporter": "python",
   "pygments_lexer": "ipython3",
   "version": "3.10.4"
  },
  "orig_nbformat": 4
 },
 "nbformat": 4,
 "nbformat_minor": 2
}
